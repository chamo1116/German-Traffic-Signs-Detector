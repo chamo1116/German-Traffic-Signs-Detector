{
 "cells": [
  {
   "cell_type": "code",
   "execution_count": 11,
   "metadata": {},
   "outputs": [],
   "source": [
    "import tensorflow as tf\n",
    "from os import listdir\n",
    "import numpy as np\n",
    "import numpy, os\n",
    "from PIL import Image\n",
    "from os import listdir\n",
    "from sklearn.model_selection import train_test_split\n",
    "from numpy import array\n",
    "from numpy import argmax\n",
    "from sklearn.preprocessing import LabelEncoder\n",
    "from sklearn.preprocessing import OneHotEncoder"
   ]
  },
  {
   "cell_type": "code",
   "execution_count": 12,
   "metadata": {},
   "outputs": [],
   "source": [
    "path=\"E:/German-Traffic-Signs-Detector/images/train/\""
   ]
  },
  {
   "cell_type": "code",
   "execution_count": 13,
   "metadata": {},
   "outputs": [],
   "source": [
    "Xlist=[]\n",
    "Ylist=[]\n",
    "width = 35\n",
    "height = 35\n",
    "for directory in os.listdir(path):\n",
    "        for file in os.listdir(path+directory):\n",
    "            img=Image.open(path+directory+\"/\"+file)\n",
    "            img = img.resize((width, height)) \n",
    "            featurevector = numpy.array(img.getdata())\n",
    "            #featurevector=featurevector.flatten()\n",
    "            Xlist.append(featurevector)\n",
    "            Ylist.append(directory)\n",
    "Xlist = np.array(Xlist, dtype='float32')\n",
    "Xlist = np.reshape(Xlist, (Xlist.shape[0], -1))\n",
    "\n",
    "#Onehot_encode Ylist\n",
    "label_encoder = LabelEncoder()\n",
    "integer_encoded = label_encoder.fit_transform(Ylist)\n",
    "onehot_encoder = OneHotEncoder(sparse=False)\n",
    "integer_encoded = integer_encoded.reshape(len(integer_encoded), 1)\n",
    "onehot_Ylist = onehot_encoder.fit_transform(integer_encoded)\n",
    "\n",
    "x_train, x_test, y_train, y_test = train_test_split(Xlist, onehot_Ylist, test_size=0.20, random_state=0)\n",
    "\n",
    "\n",
    "\n",
    "\n",
    "ntrain=len(x_train)\n",
    "ntest=len(x_test)\n",
    "dim= x_train.shape[1]\n",
    "Totallabel=onehot_Ylist.shape[1]\n",
    "\n"
   ]
  },
  {
   "cell_type": "code",
   "execution_count": 14,
   "metadata": {},
   "outputs": [],
   "source": [
    "# Parameters of Logistic Regression\n",
    "learning_rate   = 0.001\n",
    "training_epochs = 1000\n",
    "batch_size      = 10\n",
    "display_step    = 100"
   ]
  },
  {
   "cell_type": "code",
   "execution_count": 15,
   "metadata": {},
   "outputs": [],
   "source": [
    "x = tf.placeholder(\"float\", [None, dim]) \n",
    "y = tf.placeholder(\"float\", [None, Totallabel]) \n",
    "#Set model weights\n",
    "W = tf.Variable(tf.zeros([dim, Totallabel]))\n",
    "b = tf.Variable(tf.zeros([Totallabel]))"
   ]
  },
  {
   "cell_type": "code",
   "execution_count": 16,
   "metadata": {},
   "outputs": [],
   "source": [
    "#Linear mapping\n",
    "prediction = tf.matmul(x, W) + b\n",
    "model = tf.nn.softmax(tf.matmul(x, W) + b)"
   ]
  },
  {
   "cell_type": "code",
   "execution_count": 18,
   "metadata": {},
   "outputs": [],
   "source": [
    "cost_function = -tf.reduce_sum(y*tf.log(prediction)) \n",
    "entropy = tf.nn.softmax_cross_entropy_with_logits( logits=prediction, labels=y)\n",
    "loss = tf.reduce_mean(entropy) # computes the mean over examples in the batch"
   ]
  },
  {
   "cell_type": "code",
   "execution_count": 19,
   "metadata": {},
   "outputs": [],
   "source": [
    "optm = tf.train.GradientDescentOptimizer(learning_rate=learning_rate).minimize(loss) "
   ]
  },
  {
   "cell_type": "code",
   "execution_count": 20,
   "metadata": {},
   "outputs": [],
   "source": [
    "init = tf.global_variables_initializer()"
   ]
  },
  {
   "cell_type": "code",
   "execution_count": 21,
   "metadata": {
    "scrolled": true
   },
   "outputs": [
    {
     "name": "stdout",
     "output_type": "stream",
     "text": [
      "Accuracy: 0.8106996\n"
     ]
    }
   ],
   "source": [
    "# Launch the graph\n",
    "with tf.Session() as sess:\n",
    "    sess.run(init)\n",
    "    # Training cycle\n",
    "    for epoch in range(training_epochs):\n",
    "        avg_cost = 0.\n",
    "        num_batch = int(ntrain/batch_size)\n",
    "        # Loop over all batches\n",
    "        for i in range(num_batch): \n",
    "            randidx = np.random.randint(ntrain, size=batch_size)\n",
    "            batch_xs = x_train[randidx, :]\n",
    "            batch_ys = y_train[randidx, :]\n",
    "            # Fit training using batch data\n",
    "            sess.run(optm, feed_dict={x: batch_xs, y: batch_ys})\n",
    "            # Compute average loss\n",
    "            avg_cost += sess.run(cost_function, feed_dict={x: batch_xs, y: batch_ys})/num_batch\n",
    "    predictions = tf.equal(tf.argmax(prediction, 1), tf.argmax(y, 1))\n",
    "    accuracy = tf.reduce_mean(tf.cast(predictions, \"float\"))\n",
    "    print (\"Accuracy:\", accuracy.eval({x: x_test, y: y_test}))\n",
    "    sess.close()"
   ]
  },
  {
   "cell_type": "code",
   "execution_count": null,
   "metadata": {},
   "outputs": [],
   "source": []
  }
 ],
 "metadata": {
  "kernelspec": {
   "display_name": "Python 3",
   "language": "python",
   "name": "python3"
  },
  "language_info": {
   "codemirror_mode": {
    "name": "ipython",
    "version": 3
   },
   "file_extension": ".py",
   "mimetype": "text/x-python",
   "name": "python",
   "nbconvert_exporter": "python",
   "pygments_lexer": "ipython3",
   "version": "3.6.4"
  }
 },
 "nbformat": 4,
 "nbformat_minor": 2
}
